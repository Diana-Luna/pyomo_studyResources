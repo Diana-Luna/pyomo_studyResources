{
 "cells": [
  {
   "cell_type": "markdown",
   "metadata": {},
   "source": [
    "# FUSE Documentation - v1 Agro-economic Module"
   ]
  },
  {
   "cell_type": "markdown",
   "metadata": {},
   "source": [
    "## 1. Overview \n",
    "\n",
    "The objective of the agro-economic model is to find the most profitable \n",
    "combination of production options that will satisfy the rice demand \n",
    "and fodder demand of the extended Lake Victoria Basin. Three production \n",
    "options $v$, with different levels of intensification/use \n",
    "of inputs, are explored. The upper limit is defined by the land, water, and labor.\n",
    "\n",
    "#### <u>Codes and files path</u>\n",
    "All the codes regarding the Agroeconomic Module are stored in the following python files:\n",
    "\n",
    "- \n",
    "\n",
    "The input files used for the Agro-economic Module are respectively: \n",
    "\n",
    "-  ...\\input\\Input_data_pune.xlsx\n",
    "- \n",
    "\n",
    "#### <u>Preparation of input data </u>\n",
    "Spatially explicit, various resolution, linking the asptaial data to polygons, \n",
    "This has been followed for most data....\n",
    "\n",
    "\n",
    "## 2. Input variables\n"
   ]
  },
  {
   "cell_type": "markdown",
   "metadata": {},
   "source": [
    "#### <u> Sets </u>\n",
    "\\begin{eqnarray*}\n",
    "  &  J = \\{rice, sc_adsali, sc_preseason, sc_suru, wheat, fruitvegK, fruitvegR, spicesK, spicesR, cotton, soybean, chickpeas, groundnut, sorghum, maize\\} \\\\\n",
    "  &  T = \\{full_irrig, deficit_irrig_10, deficit_irrig_30, deficit_irrig_50\\} \\\\\n",
    "  &  L & \\textrm{set of livestock types}\n",
    "\\end{eqnarray*}\n",
    "\n",
    " \\textrm{Parameters:} \n",
    " \\begin{eqnarray*}\n",
    "  & p_i  & \\textrm{price of crop $i$}  \\\\\n",
    "  & y_{iv} & \\textrm{yields}  \\\\\n",
    "  & pc_{iv} &\\textrm{production cost} \\\\\n",
    "  & w_{iv} &\\textrm{water requirements per unit of area} \\\\\n",
    "  & \\eta &\\textrm{irrigation efficiency} \\\\\n",
    "  & l_{iv} & \\textrm{labor requirement per unit of area} \\\\\n",
    "  & stoyld_{iv} & \\textrm{stover yield} \\\\\n",
    "  & pyld & \\textrm{pature yield} \\\\\n",
    "  & dryreq_{j} & \\textrm{fodder requirement of livestock type $j$}\n",
    " \\end{eqnarray*}\n",
    "\n",
    " \\textrm{Variables:}\n",
    " \\begin{align} \n",
    "  & AREA_{iv} \\textrm{    area of crop $i$ under production option $v$} \\\\\n",
    "  & DOMPROD_{i} = \\sum_{v} y_{iv} \\cdot AREA_{iv}   \\\\\n",
    "  & FODPROD = \\sum_{iv} stoyld_{iv} \\cdot AREA_{iv} + pyld \\cdot pastarea  \n",
    " \\end{align}\n",
    "\n",
    "\n",
    "\\textrm{Maximize $NB$:}\n",
    "\\begin{align}\n",
    "& \\displaystyle \\sum_{iv} (p_i \\cdot y_{iv} - pc_{iv}) \\cdot AREA_{iv} & \\textrm{maximize net benefits}\n",
    "\\end{align}\n",
    "\n",
    "\\textrm{Subject to:}\n",
    "\\begin{align}\n",
    "& AREA_{iv} \\leq land_{iv}  \\label{eq:landavailable} \\\\ \n",
    "& \\sum_{iv} w_{iv} \\cdot AREA_{iv} \\leq \\eta \\cdot water  \\label{eq:wateravailable} \\\\ \n",
    "& \\sum_{iv} l_{iv} \\cdot AREA_{iv} \\leq labor  \\label{eq:laboravailable} \\\\ \n",
    "& DOMPROD_{i} \\leq demand_{i}  \\label{eq:ricedemand} \\\\ \n",
    "& FODPROD \\geq \\sum_{j} livprod_{j} \\cdot dr{}yreq_{j}  \\label{eq:fodderdemand} \\\\\n",
    "& AREA_{iv} \\geq 0 \\label{eq:nonnegativearea}\n",
    "\\end{align}\n",
    "\n",
    "\\subsection{Constraints}\n",
    "\n",
    "\n",
    "%& DOMPROD_{i} = \\sum_{v} y_{iv} \\cdot AREA_{iv} &  \\\\\n",
    "\n",
    "\\begin{eqnarray*}\n",
    "  & land_{iv} & \\textrm{land suitable and available} \\\\\n",
    "  & water & \\textrm{water available} \\\\\n",
    "  & labor & \\textrm{labor available for each crop} \\\\\n",
    "  & demand_{i} & \\textrm{demand for crop $i$}\n",
    "\\end{eqnarray*}{}\n"
   ]
  }
 ],
 "metadata": {
  "kernelspec": {
   "display_name": "Python 3",
   "language": "python",
   "name": "python3"
  },
  "language_info": {
   "codemirror_mode": {
    "name": "ipython",
    "version": 3
   },
   "file_extension": ".py",
   "mimetype": "text/x-python",
   "name": "python",
   "nbconvert_exporter": "python",
   "pygments_lexer": "ipython3",
   "version": "3.7.3"
  }
 },
 "nbformat": 4,
 "nbformat_minor": 4
}
