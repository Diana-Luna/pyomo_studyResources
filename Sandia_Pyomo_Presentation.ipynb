{
 "cells": [
  {
   "cell_type": "code",
   "execution_count": 1,
   "metadata": {},
   "outputs": [],
   "source": [
    "from pyomo.environ import *\n",
    "from pyomo.opt import SolverFactory\n",
    "import numpy as np"
   ]
  },
  {
   "cell_type": "markdown",
   "metadata": {},
   "source": [
    "# Sandia presentation _ 2016"
   ]
  },
  {
   "cell_type": "markdown",
   "metadata": {},
   "source": [
    "## Pyomo fundamentals\n",
    "#### Setting started: the model\n",
    "We create a local variable to hold the model we are about to contruct. By convention, we write `model = ConcreteModel()`. We can name the model differently, but we will need to tell the Pyomo cript the object name through the command line.\n",
    "\n",
    "#### Populating the model: variables\n",
    "You assing an unique name to the variable `model.name_of_variable = Var()`. Then, you can define the variable domain (e.g., `within=Binary`); if missing, the domain is assumed to be `Reals`. \n",
    "\n",
    "#### Defining the objective\n",
    "In the objective funtion, `expr` can be an expression or any function-like object that return an expression. If `sense` is omitted, Pyomo assumes minimization. \n",
    "\n",
    "#### Defining the problem: constraints\n",
    "Constraints are defined as following: `model.name_of_constraint = Constraint(expr = ...)`. We can either create constraint by constraint, or we can create a list of constraints. For creating a list, we will do the following: \n",
    "- `model.list_of_constraints = ConstraintList()` \n",
    "- `model.list_of_constraints.add(.... <=)`\n"
   ]
  },
  {
   "cell_type": "code",
   "execution_count": 4,
   "metadata": {},
   "outputs": [],
   "source": [
    "#Example\n",
    "model = ConcreteModel()\n",
    "\n",
    "model.x = Var(initialize = -1.2, bounds =(-2,2))\n",
    "model.y = Var(within=Integers, bounds =(-2,1))\n",
    "\n",
    "model.obj = Objective(\n",
    "    expr= (1-model.x)**2 + 100*(model.y-model.x**2)**2,\n",
    "    sense=minimize)"
   ]
  },
  {
   "cell_type": "markdown",
   "metadata": {},
   "source": [
    "\n",
    "#### Higher-dimensional components\n",
    "- `model.a_vector = Var(IDX)`\n",
    "- `model.a_matrix = Var(IDX_A, IDX_B)`\n",
    "While indexed variables look like matrices, they are not.\n",
    "\n",
    "#### Manipulating indices: list comprehensions\n",
    "Paralel to $\\sum\\limits_{i=IDX} b_{i} \\leq a$\n"
   ]
  },
  {
   "cell_type": "code",
   "execution_count": 3,
   "metadata": {},
   "outputs": [],
   "source": [
    "model = ConcreteModel()\n",
    "model.IDX = range(10)\n",
    "model.a = Var()\n",
    "model.b = Var(model.IDX)\n",
    "model.c1 = Constraint(\n",
    "    expr = sum(model.b[i] for i in model.IDX) <= model.a)"
   ]
  },
  {
   "cell_type": "markdown",
   "metadata": {},
   "source": [
    "#### Generating and managing indices: Sets and RangeSet\n",
    "Sets are objects for managing multidimensional indices. You should   `Set(initialize = [1,2,5])` the set that you want. The `initialize` option can accpet sets, lists, and tuples. You can alternatively use `RangeSet` if you want a set of sequential integers. \n",
    "\n",
    "Pyomo will attempt to infer the \"dimensionality\" of Set components (that is, the number of apparent indices). "
   ]
  },
  {
   "cell_type": "code",
   "execution_count": 23,
   "metadata": {},
   "outputs": [
    {
     "name": "stdout",
     "output_type": "stream",
     "text": [
      "IDX2 : Size=1, Index=None, Ordered=True\n",
      "    Key  : Dimen : Domain           : Size : Members\n",
      "    None :     3 : IDX2_index_0*IDX :   27 : {(0, 0, 0), (0, 0, 1), (0, 0, 2), (0, 1, 0), (0, 1, 1), (0, 1, 2), (0, 2, 0), (0, 2, 1), (0, 2, 2), (1, 0, 0), (1, 0, 1), (1, 0, 2), (1, 1, 0), (1, 1, 1), (1, 1, 2), (1, 2, 0), (1, 2, 1), (1, 2, 2), (2, 0, 0), (2, 0, 1), (2, 0, 2), (2, 1, 0), (2, 1, 1), (2, 1, 2), (2, 2, 0), (2, 2, 1), (2, 2, 2)}\n"
     ]
    }
   ],
   "source": [
    "model = ConcreteModel()\n",
    "model.IDX = Set(initialize = range(3), dimen=1) #is ZERO based [0,1,2,3,4]\n",
    "model.IDXS = RangeSet(5) #is ONE based [1,2,3,4,5]\n",
    "\n",
    "model.IDX2 = model.IDX * model.IDX * model.IDX # I changed the dimensionality to 3\n",
    "\n",
    "model.IDX2.pprint()"
   ]
  },
  {
   "cell_type": "code",
   "execution_count": 26,
   "metadata": {},
   "outputs": [
    {
     "name": "stdout",
     "output_type": "stream",
     "text": [
      "LTRI : Size=1, Index=None, Ordered=Insertion\n",
      "    Key  : Dimen : Domain : Size : Members\n",
      "    None :     2 :    Any :    6 : {(1, 1), (2, 1), (2, 2), (5, 1), (5, 2), (5, 5)}\n"
     ]
    }
   ],
   "source": [
    "# creating sparse sets\n",
    "model = ConcreteModel()\n",
    "model.IDX = Set( initialize=[1,2,5] )\n",
    "def lower_tri_filter(model, i, j):\n",
    "    return j <= i\n",
    "model.LTRI = Set( initialize = model.IDX * model.IDX,\n",
    "                 filter = lower_tri_filter )\n",
    "\n",
    "model.LTRI.pprint()"
   ]
  },
  {
   "cell_type": "markdown",
   "metadata": {},
   "source": [
    "#### Deferred construction: Rules\n",
    "\n"
   ]
  },
  {
   "cell_type": "markdown",
   "metadata": {},
   "source": [
    "#### Solving models: the pyomo command\n",
    " `help-solvers`\n",
    " \n",
    "### Concrete vs Abstract\n",
    "#### Concrete models\n",
    "Data first, then model. 1-pass construction. All data must be present before Python starts processing the model. Easy to script. Very similar to GAMS. \n",
    "\n",
    "#### Abstract model\n",
    "Model first, then data. 2-pass construction. Pyomo stores the basic model declarations, but does not construct the actual objects; the details on how to construct the component hidden in function or `rules`. At creation time, data is applied to the abstract declaration to create a concrete instance. Encourages generic modeling and model reuse.  "
   ]
  },
  {
   "cell_type": "code",
   "execution_count": 5,
   "metadata": {},
   "outputs": [],
   "source": [
    "DATA = {1: 10, 2: 21, 5:42}"
   ]
  },
  {
   "cell_type": "code",
   "execution_count": 9,
   "metadata": {},
   "outputs": [
    {
     "data": {
      "text/plain": [
       "10"
      ]
     },
     "execution_count": 9,
     "metadata": {},
     "output_type": "execute_result"
    }
   ],
   "source": [
    "DATA[1]"
   ]
  },
  {
   "cell_type": "markdown",
   "metadata": {},
   "source": [
    "### Example 1\n",
    "Determine the set of 𝑃 warehouses chosen from 𝑁\n",
    "candidates that minimizes the total cost of serving all\n",
    "customers 𝑀 where 𝑑𝑛,𝑚 is the cost of serving customer 𝑚\n",
    "from warehouse location 𝑛."
   ]
  },
  {
   "cell_type": "markdown",
   "metadata": {},
   "source": [
    "### Example 2:  concrete knapsack\n"
   ]
  }
 ],
 "metadata": {
  "kernelspec": {
   "display_name": "Python 3",
   "language": "python",
   "name": "python3"
  },
  "language_info": {
   "codemirror_mode": {
    "name": "ipython",
    "version": 3
   },
   "file_extension": ".py",
   "mimetype": "text/x-python",
   "name": "python",
   "nbconvert_exporter": "python",
   "pygments_lexer": "ipython3",
   "version": "3.7.3"
  }
 },
 "nbformat": 4,
 "nbformat_minor": 4
}
