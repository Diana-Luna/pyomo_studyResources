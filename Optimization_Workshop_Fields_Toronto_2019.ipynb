{
 "cells": [
  {
   "cell_type": "code",
   "execution_count": 1,
   "metadata": {
    "scrolled": true
   },
   "outputs": [],
   "source": [
    "from pyomo.environ import *\n",
    "from pyomo.opt import SolverFactory\n",
    "\n",
    "from pyomo.opt import TerminationCondition"
   ]
  },
  {
   "cell_type": "markdown",
   "metadata": {},
   "source": [
    "# Workshop on Optimization Techniques for Data Science in Python and Julia\n",
    " \n",
    " Fields Institute, 2019\n",
    "\n",
    "Videos available at:\n",
    "- http://www.fields.utoronto.ca/activities/18-19/optimization\n",
    "\n",
    "NOtes available at: \n",
    "- https://github.com/bkamins/Workshop-on-Optimization-Techniques"
   ]
  },
  {
   "cell_type": "markdown",
   "metadata": {},
   "source": [
    "# Lesson 1\n",
    "### Model construction (specification)"
   ]
  },
  {
   "cell_type": "code",
   "execution_count": 40,
   "metadata": {},
   "outputs": [],
   "source": [
    "model = ConcreteModel(name=\"Chess set 1\")\n",
    "model.xs = Var(within=NonNegativeIntegers) #NonNegativeReals\n",
    "model.xl = Var(within=NonNegativeIntegers) #NonNegativeReals\n",
    "model.obj = Objective(expr=5*model.xs + 20*model.xl, sense=maximize)\n",
    "model.latehours = Constraint(expr= 3*model.xs + 2*model.xl <= 52*160) #52 weeks\n",
    "model.boxwood = Constraint(expr= 1*model.xs + 3*model.xl <= 52*200)"
   ]
  },
  {
   "cell_type": "markdown",
   "metadata": {},
   "source": [
    "### Model solving \n",
    "There are many solvers... You should select it according to the type of problem you have. \n",
    "There are open source solvers. \n",
    "\n",
    "`glpk` is able to solve integer problems. It just selects a different algorithm. "
   ]
  },
  {
   "cell_type": "code",
   "execution_count": 37,
   "metadata": {
    "scrolled": true
   },
   "outputs": [
    {
     "name": "stdout",
     "output_type": "stream",
     "text": [
      "\n",
      "Problem: \n",
      "- Name: unknown\n",
      "  Lower bound: 69330.0\n",
      "  Upper bound: 69330.0\n",
      "  Number of objectives: 1\n",
      "  Number of constraints: 3\n",
      "  Number of variables: 3\n",
      "  Number of nonzeros: 5\n",
      "  Sense: maximize\n",
      "Solver: \n",
      "- Status: ok\n",
      "  Termination condition: optimal\n",
      "  Statistics: \n",
      "    Branch and bound: \n",
      "      Number of bounded subproblems: 1\n",
      "      Number of created subproblems: 1\n",
      "  Error rc: 0\n",
      "  Time: 0.08741021156311035\n",
      "Solution: \n",
      "- number of solutions: 0\n",
      "  number of solutions displayed: 0\n",
      "\n"
     ]
    }
   ],
   "source": [
    "solver = SolverFactory(\"glpk\")  #\n",
    "results = solver.solve(model)\n",
    "print(results)"
   ]
  },
  {
   "cell_type": "code",
   "execution_count": 38,
   "metadata": {},
   "outputs": [
    {
     "name": "stdout",
     "output_type": "stream",
     "text": [
      "2.0 3466.0\n"
     ]
    }
   ],
   "source": [
    "print(value(model.xs), value(model.xl))"
   ]
  },
  {
   "cell_type": "code",
   "execution_count": 9,
   "metadata": {},
   "outputs": [
    {
     "name": "stdout",
     "output_type": "stream",
     "text": [
      "obj : Size=1, Index=None, Active=True\n",
      "    Key  : Active : Sense    : Expression\n",
      "    None :   True : maximize : 5*xs + 20*xl\n"
     ]
    }
   ],
   "source": [
    "#To check that the model is as expected\n",
    "model.obj.pprint()\n",
    "model.latehours.pprint()\n",
    "model.boxwood.pprint()"
   ]
  },
  {
   "cell_type": "markdown",
   "metadata": {},
   "source": [
    "Other way of writing the model in python - the advantage is that you have more flexibility and power to do it. "
   ]
  },
  {
   "cell_type": "code",
   "execution_count": 43,
   "metadata": {},
   "outputs": [],
   "source": [
    "def objective(n):\n",
    "    return 5*n.xs + 20*n.xl\n",
    "\n",
    "def latehours(n):\n",
    "    return 3*n.xs + 2*n.xl <= 160\n",
    "\n",
    "def boxwood(n):\n",
    "    return 1*n.xs + 3*n.xl <= 200\n",
    "\n",
    "constraints = [latehours, boxwood]\n",
    "\n",
    "def constraint(n, idx):\n",
    "    return constraints[idx](n)\n",
    "\n",
    "\n",
    "def chess_set(onlyint):\n",
    "    typ = NonNegativeIntegers if onlyint else NonNegativeReals\n",
    "    model = ConcreteModel(name=\"Chess set\")\n",
    "    model.xs=Var(within=typ)\n",
    "    model.xl=Var(within=typ)\n",
    "    model.obj = Objective(rule=objective, sense=maximize) #rule is different to expression. Rule is a function. \n",
    "    model.constr = Constraint([0,1], rule=constraint)\n",
    "    solver = SolverFactory(\"glpk\")\n",
    "    solver.solve(model)\n",
    "    return(model)\n",
    "    "
   ]
  },
  {
   "cell_type": "code",
   "execution_count": 44,
   "metadata": {},
   "outputs": [
    {
     "name": "stdout",
     "output_type": "stream",
     "text": [
      "1 Set Declarations\n",
      "    constr_index : Size=1, Index=None, Ordered=Insertion\n",
      "        Key  : Dimen : Domain : Size : Members\n",
      "        None :     1 :    Any :    2 : {0, 1}\n",
      "\n",
      "2 Var Declarations\n",
      "    xl : Size=1, Index=None\n",
      "        Key  : Lower : Value            : Upper : Fixed : Stale : Domain\n",
      "        None :     0 : 66.6666666666667 :  None : False : False : NonNegativeReals\n",
      "    xs : Size=1, Index=None\n",
      "        Key  : Lower : Value : Upper : Fixed : Stale : Domain\n",
      "        None :     0 :   0.0 :  None : False : False : NonNegativeReals\n",
      "\n",
      "1 Objective Declarations\n",
      "    obj : Size=1, Index=None, Active=True\n",
      "        Key  : Active : Sense    : Expression\n",
      "        None :   True : maximize : 5*xs + 20*xl\n",
      "\n",
      "1 Constraint Declarations\n",
      "    constr : Size=2, Index=constr_index, Active=True\n",
      "        Key : Lower : Body        : Upper : Active\n",
      "          0 :  -Inf : 3*xs + 2*xl : 160.0 :   True\n",
      "          1 :  -Inf :   xs + 3*xl : 200.0 :   True\n",
      "\n",
      "5 Declarations: xs xl obj constr_index constr\n"
     ]
    }
   ],
   "source": [
    "res= chess_set(False)\n",
    "res.pprint()"
   ]
  },
  {
   "cell_type": "code",
   "execution_count": 45,
   "metadata": {
    "scrolled": true
   },
   "outputs": [
    {
     "name": "stdout",
     "output_type": "stream",
     "text": [
      "1 Set Declarations\n",
      "    constr_index : Size=1, Index=None, Ordered=Insertion\n",
      "        Key  : Dimen : Domain : Size : Members\n",
      "        None :     1 :    Any :    2 : {0, 1}\n",
      "\n",
      "2 Var Declarations\n",
      "    xl : Size=1, Index=None\n",
      "        Key  : Lower : Value : Upper : Fixed : Stale : Domain\n",
      "        None :     0 :  66.0 :  None : False : False : NonNegativeIntegers\n",
      "    xs : Size=1, Index=None\n",
      "        Key  : Lower : Value : Upper : Fixed : Stale : Domain\n",
      "        None :     0 :   2.0 :  None : False : False : NonNegativeIntegers\n",
      "\n",
      "1 Objective Declarations\n",
      "    obj : Size=1, Index=None, Active=True\n",
      "        Key  : Active : Sense    : Expression\n",
      "        None :   True : maximize : 5*xs + 20*xl\n",
      "\n",
      "1 Constraint Declarations\n",
      "    constr : Size=2, Index=constr_index, Active=True\n",
      "        Key : Lower : Body        : Upper : Active\n",
      "          0 :  -Inf : 3*xs + 2*xl : 160.0 :   True\n",
      "          1 :  -Inf :   xs + 3*xl : 200.0 :   True\n",
      "\n",
      "5 Declarations: xs xl obj constr_index constr\n"
     ]
    }
   ],
   "source": [
    "res= chess_set(True)\n",
    "res.pprint()"
   ]
  },
  {
   "cell_type": "markdown",
   "metadata": {},
   "source": [
    "- https://neos-guide.org/optimization-tree\n",
    "- https://documentation.aimms.com/platform/solvers/solvers.html#available-solvers"
   ]
  },
  {
   "cell_type": "markdown",
   "metadata": {},
   "source": [
    "# Lesson 2\n",
    "## Problem 1"
   ]
  },
  {
   "cell_type": "code",
   "execution_count": 100,
   "metadata": {},
   "outputs": [],
   "source": [
    "# Constants\n",
    "\n",
    "demand = [30.0, 15.0, 15.0, 25.0, 33.0, 40.0,\n",
    "          45.0, 45.0, 26.0, 14.0, 25.0, 30.0]\n",
    "\n",
    "cost_normal = 32*1000\n",
    "cost_overtime = 40*1000\n",
    "cost_store = 5*1000 # *0 #if storing is free, we have more than one optimal solution\n",
    "capacity = 30\n",
    "n=len(demand)"
   ]
  },
  {
   "cell_type": "code",
   "execution_count": 101,
   "metadata": {},
   "outputs": [],
   "source": [
    "model = ConcreteModel(name=\"Bicycle\")\n",
    "model.time = RangeSet(1,n) #define set\n",
    "model.store_time = RangeSet(0,n)\n",
    "model.prod_normal = Var(model.time, bounds=(0,capacity)) #variable in terms of model.time or indexed in model.time\n",
    "model.prod_overtime = Var(model.time, bounds=(0,15)) #define lower and upper bound\n",
    "model.store = Var(model.store_time, within=NonNegativeReals)"
   ]
  },
  {
   "cell_type": "code",
   "execution_count": 102,
   "metadata": {},
   "outputs": [],
   "source": [
    "# defined dynamically. \n",
    "model.obj = Objective(expr=sum(cost_normal*model.prod_normal[i]+\n",
    "                              cost_overtime*model.prod_overtime[i]+\n",
    "                              cost_store*model.store[i] for i in model.time),\n",
    "                     sense=minimize)\n",
    "\n",
    "def time_constraint(model, t):\n",
    "    inflow = model.prod_normal[t] + model.prod_overtime[t] + model.store[t-1]\n",
    "    outflow = demand[t-1] + model.store[t]\n",
    "    return inflow == outflow\n",
    "\n",
    "model.constr = Constraint(model.time, rule=time_constraint)\n",
    "\n",
    "model.store[0].fix(2.0)"
   ]
  },
  {
   "cell_type": "code",
   "execution_count": 103,
   "metadata": {},
   "outputs": [
    {
     "name": "stdout",
     "output_type": "stream",
     "text": [
      "\n",
      "Problem: \n",
      "- Name: unknown\n",
      "  Lower bound: 11247000.0\n",
      "  Upper bound: 11247000.0\n",
      "  Number of objectives: 1\n",
      "  Number of constraints: 13\n",
      "  Number of variables: 37\n",
      "  Number of nonzeros: 48\n",
      "  Sense: minimize\n",
      "Solver: \n",
      "- Status: ok\n",
      "  Termination condition: optimal\n",
      "  Statistics: \n",
      "    Branch and bound: \n",
      "      Number of bounded subproblems: 0\n",
      "      Number of created subproblems: 0\n",
      "  Error rc: 0\n",
      "  Time: 0.09215831756591797\n",
      "Solution: \n",
      "- number of solutions: 0\n",
      "  number of solutions displayed: 0\n",
      "\n",
      "2 RangeSet Declarations\n",
      "    store_time : Dimen=1, Size=13, Bounds=(0, 12)\n",
      "        Key  : Finite : Members\n",
      "        None :   True :  [0:12]\n",
      "    time : Dimen=1, Size=12, Bounds=(1, 12)\n",
      "        Key  : Finite : Members\n",
      "        None :   True :  [1:12]\n",
      "\n",
      "3 Var Declarations\n",
      "    prod_normal : Size=12, Index=time\n",
      "        Key : Lower : Value : Upper : Fixed : Stale : Domain\n",
      "          1 :     0 :  28.0 :    30 : False : False :  Reals\n",
      "          2 :     0 :  15.0 :    30 : False : False :  Reals\n",
      "          3 :     0 :  15.0 :    30 : False : False :  Reals\n",
      "          4 :     0 :  28.0 :    30 : False : False :  Reals\n",
      "          5 :     0 :  30.0 :    30 : False : False :  Reals\n",
      "          6 :     0 :  30.0 :    30 : False : False :  Reals\n",
      "          7 :     0 :  30.0 :    30 : False : False :  Reals\n",
      "          8 :     0 :  30.0 :    30 : False : False :  Reals\n",
      "          9 :     0 :  26.0 :    30 : False : False :  Reals\n",
      "         10 :     0 :  14.0 :    30 : False : False :  Reals\n",
      "         11 :     0 :  25.0 :    30 : False : False :  Reals\n",
      "         12 :     0 :  30.0 :    30 : False : False :  Reals\n",
      "    prod_overtime : Size=12, Index=time\n",
      "        Key : Lower : Value : Upper : Fixed : Stale : Domain\n",
      "          1 :     0 :   0.0 :    15 : False : False :  Reals\n",
      "          2 :     0 :   0.0 :    15 : False : False :  Reals\n",
      "          3 :     0 :   0.0 :    15 : False : False :  Reals\n",
      "          4 :     0 :   0.0 :    15 : False : False :  Reals\n",
      "          5 :     0 :   0.0 :    15 : False : False :  Reals\n",
      "          6 :     0 :  10.0 :    15 : False : False :  Reals\n",
      "          7 :     0 :  15.0 :    15 : False : False :  Reals\n",
      "          8 :     0 :  15.0 :    15 : False : False :  Reals\n",
      "          9 :     0 :   0.0 :    15 : False : False :  Reals\n",
      "         10 :     0 :   0.0 :    15 : False : False :  Reals\n",
      "         11 :     0 :   0.0 :    15 : False : False :  Reals\n",
      "         12 :     0 :   0.0 :    15 : False : False :  Reals\n",
      "    store : Size=13, Index=store_time\n",
      "        Key : Lower : Value : Upper : Fixed : Stale : Domain\n",
      "          0 :     0 :   2.0 :  None :  True :  True : NonNegativeReals\n",
      "          1 :     0 :   0.0 :  None : False : False : NonNegativeReals\n",
      "          2 :     0 :   0.0 :  None : False : False : NonNegativeReals\n",
      "          3 :     0 :   0.0 :  None : False : False : NonNegativeReals\n",
      "          4 :     0 :   3.0 :  None : False : False : NonNegativeReals\n",
      "          5 :     0 :   0.0 :  None : False : False : NonNegativeReals\n",
      "          6 :     0 :   0.0 :  None : False : False : NonNegativeReals\n",
      "          7 :     0 :   0.0 :  None : False : False : NonNegativeReals\n",
      "          8 :     0 :   0.0 :  None : False : False : NonNegativeReals\n",
      "          9 :     0 :   0.0 :  None : False : False : NonNegativeReals\n",
      "         10 :     0 :   0.0 :  None : False : False : NonNegativeReals\n",
      "         11 :     0 :   0.0 :  None : False : False : NonNegativeReals\n",
      "         12 :     0 :   0.0 :  None : False : False : NonNegativeReals\n",
      "\n",
      "1 Objective Declarations\n",
      "    obj : Size=1, Index=None, Active=True\n",
      "        Key  : Active : Sense    : Expression\n",
      "        None :   True : minimize : 32000*prod_normal[1] + 40000*prod_overtime[1] + 5000*store[1] + 32000*prod_normal[2] + 40000*prod_overtime[2] + 5000*store[2] + 32000*prod_normal[3] + 40000*prod_overtime[3] + 5000*store[3] + 32000*prod_normal[4] + 40000*prod_overtime[4] + 5000*store[4] + 32000*prod_normal[5] + 40000*prod_overtime[5] + 5000*store[5] + 32000*prod_normal[6] + 40000*prod_overtime[6] + 5000*store[6] + 32000*prod_normal[7] + 40000*prod_overtime[7] + 5000*store[7] + 32000*prod_normal[8] + 40000*prod_overtime[8] + 5000*store[8] + 32000*prod_normal[9] + 40000*prod_overtime[9] + 5000*store[9] + 32000*prod_normal[10] + 40000*prod_overtime[10] + 5000*store[10] + 32000*prod_normal[11] + 40000*prod_overtime[11] + 5000*store[11] + 32000*prod_normal[12] + 40000*prod_overtime[12] + 5000*store[12]\n",
      "\n",
      "1 Constraint Declarations\n",
      "    constr : Size=12, Index=time, Active=True\n",
      "        Key : Lower : Body                                                                 : Upper : Active\n",
      "          1 :   0.0 :     prod_normal[1] + prod_overtime[1] + store[0] - (30.0 + store[1]) :   0.0 :   True\n",
      "          2 :   0.0 :     prod_normal[2] + prod_overtime[2] + store[1] - (15.0 + store[2]) :   0.0 :   True\n",
      "          3 :   0.0 :     prod_normal[3] + prod_overtime[3] + store[2] - (15.0 + store[3]) :   0.0 :   True\n",
      "          4 :   0.0 :     prod_normal[4] + prod_overtime[4] + store[3] - (25.0 + store[4]) :   0.0 :   True\n",
      "          5 :   0.0 :     prod_normal[5] + prod_overtime[5] + store[4] - (33.0 + store[5]) :   0.0 :   True\n",
      "          6 :   0.0 :     prod_normal[6] + prod_overtime[6] + store[5] - (40.0 + store[6]) :   0.0 :   True\n",
      "          7 :   0.0 :     prod_normal[7] + prod_overtime[7] + store[6] - (45.0 + store[7]) :   0.0 :   True\n",
      "          8 :   0.0 :     prod_normal[8] + prod_overtime[8] + store[7] - (45.0 + store[8]) :   0.0 :   True\n",
      "          9 :   0.0 :     prod_normal[9] + prod_overtime[9] + store[8] - (26.0 + store[9]) :   0.0 :   True\n",
      "         10 :   0.0 :  prod_normal[10] + prod_overtime[10] + store[9] - (14.0 + store[10]) :   0.0 :   True\n",
      "         11 :   0.0 : prod_normal[11] + prod_overtime[11] + store[10] - (25.0 + store[11]) :   0.0 :   True\n",
      "         12 :   0.0 : prod_normal[12] + prod_overtime[12] + store[11] - (30.0 + store[12]) :   0.0 :   True\n",
      "\n",
      "7 Declarations: time store_time prod_normal prod_overtime store obj constr\n"
     ]
    }
   ],
   "source": [
    "solver = SolverFactory(\"glpk\")\n",
    "results = solver.solve(model)\n",
    "print(results)\n",
    "model.pprint()"
   ]
  },
  {
   "cell_type": "code",
   "execution_count": 104,
   "metadata": {},
   "outputs": [
    {
     "name": "stdout",
     "output_type": "stream",
     "text": [
      "demand\tnormal\tover\tstore\n",
      "30.0\t28.0\t 0.0\t 0.0\n",
      "15.0\t15.0\t 0.0\t 0.0\n",
      "15.0\t15.0\t 0.0\t 0.0\n",
      "25.0\t28.0\t 0.0\t 3.0\n",
      "33.0\t30.0\t 0.0\t 0.0\n",
      "40.0\t30.0\t10.0\t 0.0\n",
      "45.0\t30.0\t15.0\t 0.0\n",
      "45.0\t30.0\t15.0\t 0.0\n",
      "26.0\t26.0\t 0.0\t 0.0\n",
      "14.0\t14.0\t 0.0\t 0.0\n",
      "25.0\t25.0\t 0.0\t 0.0\n",
      "30.0\t30.0\t 0.0\t 0.0\n"
     ]
    }
   ],
   "source": [
    "print(\"demand\\tnormal\\tover\\tstore\")\n",
    "for t in range(1,13):\n",
    "    print(\"{:4}\\t{:4}\\t{:4}\\t{:4}\".format(demand[t-1],\n",
    "          value(model.prod_normal[t]),\n",
    "          value(model.prod_overtime[t]), \n",
    "          value(model.store[t])))"
   ]
  },
  {
   "cell_type": "code",
   "execution_count": 105,
   "metadata": {},
   "outputs": [
    {
     "data": {
      "text/plain": [
       "<TerminationCondition.optimal: 'optimal'>"
      ]
     },
     "execution_count": 105,
     "metadata": {},
     "output_type": "execute_result"
    }
   ],
   "source": [
    "results.solver.termination_condition"
   ]
  },
  {
   "cell_type": "markdown",
   "metadata": {},
   "source": [
    "## Problem 2"
   ]
  },
  {
   "cell_type": "code",
   "execution_count": 87,
   "metadata": {},
   "outputs": [
    {
     "name": "stdout",
     "output_type": "stream",
     "text": [
      "\n",
      "Problem: \n",
      "- Name: unknown\n",
      "  Lower bound: -inf\n",
      "  Upper bound: inf\n",
      "  Number of objectives: 1\n",
      "  Number of constraints: 2\n",
      "  Number of variables: 2\n",
      "  Number of nonzeros: 2\n",
      "  Sense: maximize\n",
      "Solver: \n",
      "- Status: ok\n",
      "  Termination condition: infeasible\n",
      "  Statistics: \n",
      "    Branch and bound: \n",
      "      Number of bounded subproblems: 0\n",
      "      Number of created subproblems: 0\n",
      "  Error rc: 0\n",
      "  Time: 0.2057340145111084\n",
      "\n"
     ]
    }
   ],
   "source": [
    "model = ConcreteModel(name=\"Infeasible\")\n",
    "model.x = Var(within=NonNegativeReals)\n",
    "model.obj = Objective(expr= model.x, sense=maximize)\n",
    "model.constr = Constraint(expr= model.x <= -1)\n",
    "solver = SolverFactory(\"glpk\")\n",
    "results = solver.solve(model)\n",
    "print(results)"
   ]
  },
  {
   "cell_type": "code",
   "execution_count": 88,
   "metadata": {},
   "outputs": [
    {
     "name": "stdout",
     "output_type": "stream",
     "text": [
      "1 Var Declarations\n",
      "    x : Size=1, Index=None\n",
      "        Key  : Lower : Value : Upper : Fixed : Stale : Domain\n",
      "        None :     0 :  None :  None : False :  True : NonNegativeReals\n",
      "\n",
      "1 Objective Declarations\n",
      "    obj : Size=1, Index=None, Active=True\n",
      "        Key  : Active : Sense    : Expression\n",
      "        None :   True : maximize :          x\n",
      "\n",
      "1 Constraint Declarations\n",
      "    constr : Size=1, Index=None, Active=True\n",
      "        Key  : Lower : Body : Upper : Active\n",
      "        None :  -Inf :    x :  -1.0 :   True\n",
      "\n",
      "3 Declarations: x obj constr\n"
     ]
    }
   ],
   "source": [
    "model.pprint()"
   ]
  },
  {
   "cell_type": "code",
   "execution_count": 93,
   "metadata": {},
   "outputs": [],
   "source": [
    "from pyomo.opt import TerminationCondition"
   ]
  },
  {
   "cell_type": "code",
   "execution_count": 96,
   "metadata": {},
   "outputs": [
    {
     "data": {
      "text/plain": [
       "<TerminationCondition.infeasible: 'infeasible'>"
      ]
     },
     "execution_count": 96,
     "metadata": {},
     "output_type": "execute_result"
    }
   ],
   "source": [
    "results.solver.termination_condition"
   ]
  },
  {
   "cell_type": "code",
   "execution_count": 97,
   "metadata": {},
   "outputs": [
    {
     "name": "stdout",
     "output_type": "stream",
     "text": [
      "\n",
      "Problem: \n",
      "- Name: unknown\n",
      "  Lower bound: -inf\n",
      "  Upper bound: inf\n",
      "  Number of objectives: 1\n",
      "  Number of constraints: 2\n",
      "  Number of variables: 2\n",
      "  Number of nonzeros: 2\n",
      "  Sense: maximize\n",
      "Solver: \n",
      "- Status: ok\n",
      "  Termination condition: unbounded\n",
      "  Statistics: \n",
      "    Branch and bound: \n",
      "      Number of bounded subproblems: 0\n",
      "      Number of created subproblems: 0\n",
      "  Error rc: 0\n",
      "  Time: 0.0866537094116211\n",
      "\n"
     ]
    }
   ],
   "source": [
    "model = ConcreteModel(name=\"Unbounded\")\n",
    "model.x = Var(within=NonNegativeReals)\n",
    "model.obj = Objective(expr= model.x, sense=maximize)\n",
    "model.constr = Constraint(expr= model.x >= -1)\n",
    "solver = SolverFactory(\"glpk\")\n",
    "results = solver.solve(model)\n",
    "print(results)"
   ]
  },
  {
   "cell_type": "code",
   "execution_count": 98,
   "metadata": {},
   "outputs": [
    {
     "name": "stdout",
     "output_type": "stream",
     "text": [
      "1 Var Declarations\n",
      "    x : Size=1, Index=None\n",
      "        Key  : Lower : Value : Upper : Fixed : Stale : Domain\n",
      "        None :     0 :  None :  None : False :  True : NonNegativeReals\n",
      "\n",
      "1 Objective Declarations\n",
      "    obj : Size=1, Index=None, Active=True\n",
      "        Key  : Active : Sense    : Expression\n",
      "        None :   True : maximize :          x\n",
      "\n",
      "1 Constraint Declarations\n",
      "    constr : Size=1, Index=None, Active=True\n",
      "        Key  : Lower : Body : Upper : Active\n",
      "        None :  -1.0 :    x :  +Inf :   True\n",
      "\n",
      "3 Declarations: x obj constr\n"
     ]
    }
   ],
   "source": [
    "model.pprint()"
   ]
  },
  {
   "cell_type": "markdown",
   "metadata": {},
   "source": [
    "# Lesson 3"
   ]
  },
  {
   "cell_type": "code",
   "execution_count": null,
   "metadata": {},
   "outputs": [],
   "source": []
  }
 ],
 "metadata": {
  "kernelspec": {
   "display_name": "Python 3",
   "language": "python",
   "name": "python3"
  },
  "language_info": {
   "codemirror_mode": {
    "name": "ipython",
    "version": 3
   },
   "file_extension": ".py",
   "mimetype": "text/x-python",
   "name": "python",
   "nbconvert_exporter": "python",
   "pygments_lexer": "ipython3",
   "version": "3.7.3"
  }
 },
 "nbformat": 4,
 "nbformat_minor": 4
}
