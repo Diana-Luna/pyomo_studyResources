{
 "cells": [
  {
   "cell_type": "code",
   "execution_count": 50,
   "metadata": {},
   "outputs": [],
   "source": [
    "from pyomo.environ import *\n",
    "from pyomo.opt import SolverFactory\n",
    "import numpy as np"
   ]
  },
  {
   "cell_type": "markdown",
   "metadata": {},
   "source": [
    "# CBE30338 Optimization course\n",
    "Notes available at: \n",
    "- https://jckantor.github.io/CBE30338/06.04-Linear-Production-Model-in-Pyomo.html"
   ]
  },
  {
   "cell_type": "markdown",
   "metadata": {},
   "source": [
    "###  Example 1: Linear Production Model with Constraints\n",
    "\n",
    "The mathematical formulation of a simple linear production model is given by\n",
    "\n",
    "\\begin{align}\n",
    "\\max_{x,y \\geq 0} &\\ 40\\ x + 30\\ y  & \\mbox{objective}\\\\\n",
    "\\mbox{subject to:}\\qquad \\\\\n",
    "x & \\leq 40  & \\mbox{demand constraint} \\\\\n",
    "x + y & \\leq 80  & \\mbox{labor A constraint} \\\\\n",
    "2x + y & \\leq 100 & \\mbox{labor B constraint}\n",
    "\\end{align}\n",
    "\n",
    "where $x$ and $y$ are the rates of production (in units per week) for two products."
   ]
  },
  {
   "cell_type": "code",
   "execution_count": 8,
   "metadata": {},
   "outputs": [],
   "source": [
    "model = ConcreteModel(name=\"Production\")\n",
    "\n",
    "#Variables\n",
    "model.x = Var(within=NonNegativeReals, bounds=(0,40))\n",
    "model.y = Var(within=NonNegativeReals)\n",
    "\n",
    "#Objective function\n",
    "model.obj = Objective(expr=40*model.x + 30*model.y, sense = maximize)\n",
    "\n",
    "#Constraints\n",
    "def laborA(model):\n",
    "    return(model.x + model.y <= 80)\n",
    "\n",
    "def laborB(model):\n",
    "    return(2*model.x + model.y <= 100)\n",
    "\n",
    "constraints = [laborA, laborB]\n",
    "\n",
    "def constraint(model, i):\n",
    "    return(constraints[i](model))\n",
    "\n",
    "model.laborA = Constraint([0,1], rule=constraint)"
   ]
  },
  {
   "cell_type": "code",
   "execution_count": 12,
   "metadata": {},
   "outputs": [
    {
     "name": "stdout",
     "output_type": "stream",
     "text": [
      "\n",
      "Problem: \n",
      "- Name: unknown\n",
      "  Lower bound: 2600.0\n",
      "  Upper bound: 2600.0\n",
      "  Number of objectives: 1\n",
      "  Number of constraints: 3\n",
      "  Number of variables: 3\n",
      "  Number of nonzeros: 5\n",
      "  Sense: maximize\n",
      "Solver: \n",
      "- Status: ok\n",
      "  Termination condition: optimal\n",
      "  Statistics: \n",
      "    Branch and bound: \n",
      "      Number of bounded subproblems: 0\n",
      "      Number of created subproblems: 0\n",
      "  Error rc: 0\n",
      "  Time: 0.052280426025390625\n",
      "Solution: \n",
      "- number of solutions: 0\n",
      "  number of solutions displayed: 0\n",
      "\n"
     ]
    }
   ],
   "source": [
    "solver = SolverFactory(\"glpk\")\n",
    "results = solver.solve(model)\n",
    "print(results)"
   ]
  },
  {
   "cell_type": "code",
   "execution_count": 11,
   "metadata": {},
   "outputs": [
    {
     "name": "stdout",
     "output_type": "stream",
     "text": [
      "20.0 60.0\n"
     ]
    }
   ],
   "source": [
    "print(value(model.x), value(model.y))"
   ]
  },
  {
   "cell_type": "markdown",
   "metadata": {},
   "source": [
    "##### Another way of writing the model"
   ]
  },
  {
   "cell_type": "code",
   "execution_count": 13,
   "metadata": {},
   "outputs": [],
   "source": [
    "model = ConcreteModel(name=\"Production\")\n",
    "\n",
    "#Variables\n",
    "model.x = Var(within=NonNegativeReals, bounds=(0,40))\n",
    "model.y = Var(within=NonNegativeReals)\n",
    "\n",
    "#Objective function\n",
    "model.obj = Objective(expr=40*model.x + 30*model.y, sense = maximize)\n",
    "\n",
    "model.laborA = Constraint(expr=model.x + model.y <= 80)\n",
    "model.laborB = Constraint(expr=2*model.x + model.y <= 100)"
   ]
  },
  {
   "cell_type": "code",
   "execution_count": 17,
   "metadata": {},
   "outputs": [
    {
     "name": "stdout",
     "output_type": "stream",
     "text": [
      "# ==========================================================\n",
      "# = Solver Results                                         =\n",
      "# ==========================================================\n",
      "# ----------------------------------------------------------\n",
      "#   Problem Information\n",
      "# ----------------------------------------------------------\n",
      "Problem: \n",
      "- Name: unknown\n",
      "  Lower bound: 2600.0\n",
      "  Upper bound: 2600.0\n",
      "  Number of objectives: 1\n",
      "  Number of constraints: 3\n",
      "  Number of variables: 3\n",
      "  Number of nonzeros: 5\n",
      "  Sense: maximize\n",
      "# ----------------------------------------------------------\n",
      "#   Solver Information\n",
      "# ----------------------------------------------------------\n",
      "Solver: \n",
      "- Status: ok\n",
      "  Termination condition: optimal\n",
      "  Statistics: \n",
      "    Branch and bound: \n",
      "      Number of bounded subproblems: 0\n",
      "      Number of created subproblems: 0\n",
      "  Error rc: 0\n",
      "  Time: 0.09418249130249023\n",
      "# ----------------------------------------------------------\n",
      "#   Solution Information\n",
      "# ----------------------------------------------------------\n",
      "Solution: \n",
      "- number of solutions: 0\n",
      "  number of solutions displayed: 0\n",
      "2 Var Declarations\n",
      "    x : Size=1, Index=None\n",
      "        Key  : Lower : Value : Upper : Fixed : Stale : Domain\n",
      "        None :     0 :  20.0 :    40 : False : False : NonNegativeReals\n",
      "    y : Size=1, Index=None\n",
      "        Key  : Lower : Value : Upper : Fixed : Stale : Domain\n",
      "        None :     0 :  60.0 :  None : False : False : NonNegativeReals\n",
      "\n",
      "1 Objective Declarations\n",
      "    obj : Size=1, Index=None, Active=True\n",
      "        Key  : Active : Sense    : Expression\n",
      "        None :   True : maximize : 40*x + 30*y\n",
      "\n",
      "2 Constraint Declarations\n",
      "    laborA : Size=1, Index=None, Active=True\n",
      "        Key  : Lower : Body  : Upper : Active\n",
      "        None :  -Inf : x + y :  80.0 :   True\n",
      "    laborB : Size=1, Index=None, Active=True\n",
      "        Key  : Lower : Body    : Upper : Active\n",
      "        None :  -Inf : 2*x + y : 100.0 :   True\n",
      "\n",
      "5 Declarations: x y obj laborA laborB\n"
     ]
    }
   ],
   "source": [
    "results = SolverFactory(\"glpk\").solve(model)\n",
    "results.write()\n",
    "if results.solver.status == \"ok\":\n",
    "    model.pprint()"
   ]
  },
  {
   "cell_type": "code",
   "execution_count": 19,
   "metadata": {},
   "outputs": [
    {
     "name": "stdout",
     "output_type": "stream",
     "text": [
      "Profit =  2600.0\n",
      "\n",
      "Decision Variables\n",
      "x =  20.0\n",
      "y =  60.0\n",
      "\n",
      "Constraints\n",
      "LaborA =  80.0\n",
      "LaborB =  100.0\n"
     ]
    }
   ],
   "source": [
    "print('Profit = ', model.obj())\n",
    "\n",
    "print('\\nDecision Variables')\n",
    "print('x = ', model.x())\n",
    "print('y = ', model.y())\n",
    "\n",
    "print('\\nConstraints')\n",
    "print('LaborA = ', model.laborA())\n",
    "print('LaborB = ', model.laborB())"
   ]
  },
  {
   "cell_type": "markdown",
   "metadata": {},
   "source": [
    "##### Another way of writing the model"
   ]
  },
  {
   "cell_type": "code",
   "execution_count": null,
   "metadata": {},
   "outputs": [],
   "source": [
    "model = ConcreteModel()\n",
    "\n",
    "solver = SolverFactory('glpk')\n",
    "\n",
    "# create a model\n",
    "model = ConcreteModel()\n",
    "\n",
    "# index for x\n",
    "idx = ['Product A', 'Product B']\n",
    "\n",
    "# create decision variables\n",
    "model.x = Var(idx, domain=NonNegativeIntegers)\n",
    "\n",
    "# create objective\n",
    "model.maxprofit = Objective(expr = 40*model.x['Product A'] + 30*model.x['Product B'], sense=maximize)\n",
    "\n",
    "# create constraints\n",
    "model.constraints = ConstraintList()\n",
    "model.constraints.add(model.x['Product A'] <= 40)\n",
    "model.constraints.add(model.x['Product A'] + model.x['Product B'] <= 80.5)\n",
    "model.constraints.add(model.x['Product A'] + model.x['Product B'] <= 100)\n",
    "\n",
    "solver = SolverFactory('glpk')\n",
    "\n",
    "results = solver.solve(model)\n",
    "\n",
    "for i in idx:\n",
    "    print(i, model.x[i]())"
   ]
  },
  {
   "cell_type": "markdown",
   "metadata": {},
   "source": [
    "##### Another way of writing the model:  Matrix/Vector Format\n"
   ]
  },
  {
   "cell_type": "code",
   "execution_count": 74,
   "metadata": {},
   "outputs": [
    {
     "name": "stdout",
     "output_type": "stream",
     "text": [
      "x[ 0 ] =  20.0\n",
      "x[ 1 ] =  60.0\n",
      "constraints : Size=3\n",
      "    Key : Lower : Body  : Upper\n",
      "      1 :  None :  20.0 :  40.0\n",
      "      2 :  None :  80.0 :  80.0\n",
      "      3 :  None : 100.0 : 100.0\n"
     ]
    }
   ],
   "source": [
    "# We will create two arrays for the constraints\n",
    "A = np.array([[1, 0], [1, 1],[2,1]])\n",
    "b = np.array([[40], [80], [100]])\n",
    "# One array for the objective function\n",
    "c = np.array([[40, 30]])\n",
    "\n",
    "# set of row indices\n",
    "I = range(len(A)) # range starts at 0, excludes last number. \n",
    "# set of column indices\n",
    "J = range(len(A.T)) #count rows, then, we need to Transpose to count columns\n",
    "\n",
    "# create a model instance\n",
    "model = ConcreteModel()\n",
    "\n",
    "# create variables. Since the matrix has two columns (one for x and one for y) we can use the indices of J\n",
    "model.x = Var(J)\n",
    "\n",
    "# add model constraints\n",
    "model.constraints = ConstraintList()\n",
    "for i in I:\n",
    "    model.constraints.add(sum(A[i,j]*model.x[j] for j in J) <= b[i,0])\n",
    "\n",
    "# add a model objective\n",
    "model.objective = Objective(expr = sum(c[0,j]*model.x[j] for j in J), sense=maximize)\n",
    "\n",
    "# Create a solver\n",
    "solver = SolverFactory(\"glpk\")\n",
    "\n",
    "# solve\n",
    "solver.solve(model)\n",
    "\n",
    "# print solutions\n",
    "for j in J:\n",
    "    print(\"x[\", j, \"] = \", model.x[j].value)\n",
    "    \n",
    "model.constraints.display()"
   ]
  },
  {
   "cell_type": "markdown",
   "metadata": {},
   "source": [
    "###  Example 2. Integer. Sum \\\\$ 83  with minimum number of coins"
   ]
  },
  {
   "cell_type": "code",
   "execution_count": 79,
   "metadata": {},
   "outputs": [
    {
     "name": "stdout",
     "output_type": "stream",
     "text": [
      "1 Set Declarations\n",
      "    x_index : Size=1, Index=None, Ordered=False\n",
      "        Key  : Dimen : Domain : Size : Members\n",
      "        None :     1 :    Any :    5 : {'dime', 'half-dollar', 'nickel', 'penny', 'quarter'}\n",
      "\n",
      "1 Var Declarations\n",
      "    x : Size=5, Index=x_index\n",
      "        Key         : Lower : Value : Upper : Fixed : Stale : Domain\n",
      "               dime :     0 :   0.0 :  None : False : False : NonNegativeIntegers\n",
      "        half-dollar :     0 :   1.0 :  None : False : False : NonNegativeIntegers\n",
      "             nickel :     0 :   1.0 :  None : False : False : NonNegativeIntegers\n",
      "              penny :     0 :   3.0 :  None : False : False : NonNegativeIntegers\n",
      "            quarter :     0 :   1.0 :  None : False : False : NonNegativeIntegers\n",
      "\n",
      "1 Objective Declarations\n",
      "    ncoins : Size=1, Index=None, Active=True\n",
      "        Key  : Active : Sense    : Expression\n",
      "        None :   True : minimize : x[penny] + x[nickel] + x[dime] + x[quarter] + x[half-dollar]\n",
      "\n",
      "1 Constraint Declarations\n",
      "    cons : Size=1, Index=None, Active=True\n",
      "        Key  : Lower : Body                                                                    : Upper : Active\n",
      "        None :  83.0 : x[penny] + 5*x[nickel] + 10*x[dime] + 25*x[quarter] + 50*x[half-dollar] :  83.0 :   True\n",
      "\n",
      "4 Declarations: x_index x ncoins cons\n"
     ]
    }
   ],
   "source": [
    "data = {\"penny\": 1,\n",
    "       \"nickel\": 5,\n",
    "       \"dime\": 10,\n",
    "       \"quarter\": 25,\n",
    "       \"half-dollar\": 50}\n",
    "\n",
    "model = ConcreteModel()\n",
    "model.x = Var(data.keys(), domain = NonNegativeIntegers)\n",
    "model.ncoins = Objective(expr = sum(model.x[c] for c in data.keys()), sense=minimize)\n",
    "model.cons = Constraint(expr=83 == sum(data[c]*model.x[c] for c in data.keys()))\n",
    "\n",
    "solver = SolverFactory(\"glpk\")\n",
    "solver.solve(model)\n",
    "model.pprint()"
   ]
  },
  {
   "cell_type": "code",
   "execution_count": 81,
   "metadata": {},
   "outputs": [
    {
     "data": {
      "text/plain": [
       "83"
      ]
     },
     "execution_count": 81,
     "metadata": {},
     "output_type": "execute_result"
    }
   ],
   "source": [
    "data[\"half-dollar\"] + data[\"nickel\"] + data[\"quarter\"] + 3*data[\"penny\"]"
   ]
  },
  {
   "cell_type": "markdown",
   "metadata": {},
   "source": [
    "###  Example 3. Linear Blending Problem  (6.6)"
   ]
  },
  {
   "cell_type": "markdown",
   "metadata": {},
   "source": [
    "A brewery receives an order for 100 gallons of 4% ABV (alchohol by volume) beer. The brewery has on hand beer A that is 4.5% ABV that cost \\\\$ 0.32 per gallon to make, and beer B that is 3.7% ABV and cost \\\\$0.25 per gallon. Water could also be used as a blending agent at a cost of \\\\$0.05 per gallon. Find the minimum cost blend that meets the customer requirements."
   ]
  },
  {
   "cell_type": "code",
   "execution_count": null,
   "metadata": {},
   "outputs": [],
   "source": []
  }
 ],
 "metadata": {
  "kernelspec": {
   "display_name": "Python 3",
   "language": "python",
   "name": "python3"
  },
  "language_info": {
   "codemirror_mode": {
    "name": "ipython",
    "version": 3
   },
   "file_extension": ".py",
   "mimetype": "text/x-python",
   "name": "python",
   "nbconvert_exporter": "python",
   "pygments_lexer": "ipython3",
   "version": "3.7.3"
  }
 },
 "nbformat": 4,
 "nbformat_minor": 4
}
